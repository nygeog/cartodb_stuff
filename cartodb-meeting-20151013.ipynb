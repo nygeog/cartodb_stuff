{
 "cells": [
  {
   "cell_type": "markdown",
   "metadata": {},
   "source": [
    "#CartoDB Meeting 2015-10-13 10:00\n",
    "\n",
    "\n",
    "* #####[Here's what a simple geometric intersect looks like in ArcGIS's ArcPy](http://help.arcgis.com/EN/arcgisdesktop/10.0/help/index.html#//00080000000p000000):\n",
    "\n",
    "        import arcpy\n",
    "        \n",
    "        inFeatures = ['buffers','census_tracts']\n",
    "        ouFeatures = 'buffer_census_tracts_int'\n",
    "        \n",
    "        arcpy.Intersect_analysis(inFeatures,ouFeatures) #other optional parameters also available\n",
    "        \n",
    "![intersect](http://help.arcgis.com/EN/arcgisdesktop/10.0/help/0008/GUID-93B78EC9-4024-43AC-87BF-765FAD873B00-web.gif)\n",
    "\n",
    "\n",
    "* ######While my SQL skills and syntax are still being develeped, an example of my SQL:\n",
    "\n",
    "        CREATE TABLE latlngtablebufferintersect AS (SELECT  ST_Intersection(a.the_geom, b.the_geom), a.geoid, a.ct10sqmtr, b.cdbawcensusuid FROM nyct2010_explode as a, latlngtablebuffer as b WHERE ST_Intersects(a.the_geom, b.the_geom))\n",
    "        \n",
    "* ######[Here's what the PostGIS docs looks like](http://postgis.net/docs/ST_Intersection.html):\n",
    "\n",
    "        geometry ST_Intersection( geometry geomA , geometry geomB );\n",
    "\n",
    "        geography ST_Intersection( geography geogA , geography geogB );\n",
    "\n",
    "\n",
    "        \n",
    "* ######So a lot of ArcPy users are used to this format of:\n",
    "\n",
    "        arcpy.Spatial_function(inFC, ouFC)\n",
    "        \n",
    "        \n",
    "* ######I'm considering working on a Python wrapper that acts as an intermediary between learning spatial SQL and those familiar with ArcPy. I could imagine something like this:\n",
    "    \n",
    "        import cartodb_gp as cgp  #hypothetical python wrapper for geoprocessing SQL w/ simple python functions\n",
    "        \n",
    "        inLayers       = ['buffers','census_tracts']\n",
    "        inLayer1Fields = ['id','name']                  #Fields to carry over after intersection\n",
    "        inLayer2Fields = ['geoid','area_sq_meters']\n",
    "        ouLayer        = 'buffers_census_tracts_intersect'\n",
    "        \n",
    "        \n",
    "        cgp.Intersect(inLayers,inLayer1Fields,inLayer2Fields,ouLayer)\n",
    "        \n",
    "* ######This could use the awesome [CartoDB API](https://github.com/CartoDB/cartodb-python) and a Users API Key:\n",
    "\n",
    "\n",
    "#####Here's an example of \n",
    "        "
   ]
  },
  {
   "cell_type": "code",
   "execution_count": null,
   "metadata": {
    "collapsed": true
   },
   "outputs": [],
   "source": []
  }
 ],
 "metadata": {
  "kernelspec": {
   "display_name": "Python 2",
   "language": "python",
   "name": "python2"
  },
  "language_info": {
   "codemirror_mode": {
    "name": "ipython",
    "version": 2
   },
   "file_extension": ".py",
   "mimetype": "text/x-python",
   "name": "python",
   "nbconvert_exporter": "python",
   "pygments_lexer": "ipython2",
   "version": "2.7.10"
  }
 },
 "nbformat": 4,
 "nbformat_minor": 0
}
